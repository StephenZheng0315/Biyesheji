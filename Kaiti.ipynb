{
 "cells": [
  {
   "cell_type": "code",
   "execution_count": 4,
   "metadata": {},
   "outputs": [],
   "source": [
    "from mpl_toolkits.basemap import Basemap\n",
    "import netCDF4 as nc\n",
    "import numpy as np\n",
    "import matplotlib.pyplot as plt\n",
    "from mpl_toolkits.basemap import maskoceans\n",
    "from mpl_toolkits.basemap import interp\n",
    "import numpy.ma as ma\n",
    "from matplotlib.path import Path\n",
    "from matplotlib.patches import Polygon\n",
    "from matplotlib.patches import PathPatch\n",
    "import matplotlib.pyplot as plt\n",
    "import numpy\n",
    "import shapefile\n",
    "import pandas as pd\n",
    "import os\n",
    "from scipy.io import loadmat\n",
    "from matplotlib.ticker import MultipleLocator, FormatStrFormatter\n",
    "%matplotlib inline\n",
    "plt.rcParams['font.sans-serif']=['SimHei']"
   ]
  },
  {
   "cell_type": "code",
   "execution_count": 207,
   "metadata": {},
   "outputs": [
    {
     "data": {
      "text/html": [
       "<div>\n",
       "<style scoped>\n",
       "    .dataframe tbody tr th:only-of-type {\n",
       "        vertical-align: middle;\n",
       "    }\n",
       "\n",
       "    .dataframe tbody tr th {\n",
       "        vertical-align: top;\n",
       "    }\n",
       "\n",
       "    .dataframe thead th {\n",
       "        text-align: right;\n",
       "    }\n",
       "</style>\n",
       "<table border=\"1\" class=\"dataframe\">\n",
       "  <thead>\n",
       "    <tr style=\"text-align: right;\">\n",
       "      <th></th>\n",
       "      <th>Site_Name</th>\n",
       "      <th>H</th>\n",
       "      <th>Latitude</th>\n",
       "      <th>Longitude</th>\n",
       "      <th>t</th>\n",
       "      <th>count</th>\n",
       "    </tr>\n",
       "  </thead>\n",
       "  <tbody>\n",
       "    <tr>\n",
       "      <th>0</th>\n",
       "      <td>Beijing-CAMS</td>\n",
       "      <td>106.0</td>\n",
       "      <td>39.93300</td>\n",
       "      <td>116.31700</td>\n",
       "      <td>2015-01-01-2017-12-31</td>\n",
       "      <td>87804</td>\n",
       "    </tr>\n",
       "    <tr>\n",
       "      <th>1</th>\n",
       "      <td>XuZhou_CUMT</td>\n",
       "      <td>59.7</td>\n",
       "      <td>34.21667</td>\n",
       "      <td>117.14167</td>\n",
       "      <td>2015-01-01-2018-12-31</td>\n",
       "      <td>21843</td>\n",
       "    </tr>\n",
       "    <tr>\n",
       "      <th>2</th>\n",
       "      <td>AOE_Baotou</td>\n",
       "      <td>1314.0</td>\n",
       "      <td>40.85170</td>\n",
       "      <td>109.62880</td>\n",
       "      <td>2014-01-01-2017-11-16</td>\n",
       "      <td>20483</td>\n",
       "    </tr>\n",
       "    <tr>\n",
       "      <th>3</th>\n",
       "      <td>NAM_CO</td>\n",
       "      <td>4746.0</td>\n",
       "      <td>30.77250</td>\n",
       "      <td>90.96245</td>\n",
       "      <td>2014-05-03-2018-12-31</td>\n",
       "      <td>5117</td>\n",
       "    </tr>\n",
       "  </tbody>\n",
       "</table>\n",
       "</div>"
      ],
      "text/plain": [
       "      Site_Name       H  Latitude  Longitude                      t  count\n",
       "0  Beijing-CAMS   106.0  39.93300  116.31700  2015-01-01-2017-12-31  87804\n",
       "1   XuZhou_CUMT    59.7  34.21667  117.14167  2015-01-01-2018-12-31  21843\n",
       "2    AOE_Baotou  1314.0  40.85170  109.62880  2014-01-01-2017-11-16  20483\n",
       "3        NAM_CO  4746.0  30.77250   90.96245  2014-05-03-2018-12-31   5117"
      ]
     },
     "execution_count": 207,
     "metadata": {},
     "output_type": "execute_result"
    }
   ],
   "source": [
    "da = pd.read_csv(r'D:\\project\\biyesheji\\Code\\data\\AERONET\\jingweidu.csv')\n",
    "data = pd.read_csv(r'D:\\project\\biyesheji\\Code\\aeronotstaite.csv',header=0)\n",
    "data.head()"
   ]
  },
  {
   "cell_type": "code",
   "execution_count": 10,
   "metadata": {},
   "outputs": [],
   "source": [
    "def set_lonlat(_m, lon_list, lat_list, lon_labels, lat_labels, lonlat_size):\n",
    "    \"\"\"\n",
    "    为Basemap实例画带tick标的经纬度注释\n",
    "    自带画水平线和竖直线标注方式不带刻度标\n",
    "    当然函数仍调用了自带标注函数只是在此基础上加了tick标\n",
    "    :param _m: Basemap实例\n",
    "    :param lon_list: 经度 详见Basemap.drawmeridians函数介绍\n",
    "    :param lat_list: 纬度 同上\n",
    "    :param lon_labels: 标注位置 [左, 右, 上, 下] bool值 默认只标注左上待完善 可使用twinx和twiny实现\n",
    "    :param lat_labels: 同上\n",
    "    :param lonlat_size: 字体大小\n",
    "    :return:\n",
    "    \"\"\"\n",
    "    lon_dict = _m.drawmeridians(lon_list, labels=lon_labels, color='none', fontsize=lonlat_size)\n",
    "    lat_dict = _m.drawparallels(lat_list, labels=lat_labels, color='none', fontsize=lonlat_size)\n",
    "    lon_list = []\n",
    "    lat_list = []\n",
    "    for lon_key in lon_dict.keys():\n",
    "        try:\n",
    "            lon_list.append(lon_dict[lon_key][1][0].get_position()[0])\n",
    "        except:\n",
    "            continue\n",
    "\n",
    "    for lat_key in lat_dict.keys():\n",
    "        try:\n",
    "            lat_list.append(lat_dict[lat_key][1][0].get_position()[1])\n",
    "        except:\n",
    "            continue\n",
    "    ax = plt.gca()\n",
    "    ax.xaxis.tick_bottom()\n",
    "    ax.set_yticks(lat_list)\n",
    "    ax.set_xticks(lon_list)\n",
    "    ax.tick_params(labelcolor='none')"
   ]
  },
  {
   "cell_type": "code",
   "execution_count": 213,
   "metadata": {},
   "outputs": [],
   "source": [
    "def plot_map0(da,data,title):\n",
    "    '''\n",
    "    da:所有的\n",
    "    data:研究站\n",
    "    '''\n",
    "    lonlon=da['Longitude']\n",
    "    latlat=da['Latitude']\n",
    "    n = data[\"count\"]\n",
    "    Lon = data['Longitude']\n",
    "    Lat = data['Latitude']\n",
    "    Site_name = data['Site_Name']\n",
    "    plt.plot(figsize=(16,9),dpi=200)\n",
    "    m = Basemap(projection='cyl',resolution='f',llcrnrlon=73.1,llcrnrlat=17,urcrnrlon=136,urcrnrlat=54.5,lon_0=110.,lat_0=60)\n",
    "    #m = Basemap(projection='cyl',resolution='h',llcrnrlon=72.33,llcrnrlat=15,urcrnrlon=138.16,urcrnrlat=53.5,lon_0=106.,lat_0=33.)\n",
    "    m.readshapefile(r'D:\\project\\biyesheji\\Code\\shp\\g\\bou1_4l', 'china', drawbounds=True)\n",
    "    lon_s,lat_s = m(Lon,Lat)\n",
    "    llo,lla=m(lonlon,latlat)\n",
    "    #cs=m.pcolormesh(lon,lat,val,latlon=True,cmap='rainbow')\n",
    "    ti=1\n",
    "    for ii, jj in zip(llo,lla):\n",
    "        m.scatter(llo,lla,s=3,c='blue')\n",
    "    for i, j, name in zip(lon_s, lat_s, Site_name):\n",
    "        m.scatter(lon_s,lat_s,s=n/1000,c='r')\n",
    "        while ti != 3:\n",
    "            plt.text(i, j+1, name, rotation=0, fontsize=15)\n",
    "            break\n",
    "        while ti == 3:\n",
    "            plt.text(i-8, j+1, name, rotation=0, fontsize=15)\n",
    "            break\n",
    "        ti+=1\n",
    "        set_lonlat(m, np.arange(82,136,12), np.arange(3,52,10), [0, 0, 0, 1], [1, 0, 0, 0], 12)\n",
    "    #plt.title(title,size=20)"
   ]
  },
  {
   "cell_type": "code",
   "execution_count": 214,
   "metadata": {},
   "outputs": [
    {
     "data": {
      "image/png": "[encoded data removed]",
      "text/plain": [
       "<Figure size 432x288 with 1 Axes>"
      ]
     },
     "metadata": {
      "needs_background": "light"
     },
     "output_type": "display_data"
    }
   ],
   "source": [
    "plot_map0(da,data,\"本研究选取AERNOET站点空间分布\")#gis_osm_water_a_free_1.shp"
   ]
  },
  {
   "cell_type": "code",
   "execution_count": 97,
   "metadata": {},
   "outputs": [
    {
     "data": {
      "text/html": [
       "<div>\n",
       "<style scoped>\n",
       "    .dataframe tbody tr th:only-of-type {\n",
       "        vertical-align: middle;\n",
       "    }\n",
       "\n",
       "    .dataframe tbody tr th {\n",
       "        vertical-align: top;\n",
       "    }\n",
       "\n",
       "    .dataframe thead th {\n",
       "        text-align: right;\n",
       "    }\n",
       "</style>\n",
       "<table border=\"1\" class=\"dataframe\">\n",
       "  <thead>\n",
       "    <tr style=\"text-align: right;\">\n",
       "      <th></th>\n",
       "      <th>Site_Name</th>\n",
       "      <th>H</th>\n",
       "      <th>Latitude</th>\n",
       "      <th>Longitude</th>\n",
       "      <th>t</th>\n",
       "      <th>count</th>\n",
       "    </tr>\n",
       "  </thead>\n",
       "  <tbody>\n",
       "    <tr>\n",
       "      <th>0</th>\n",
       "      <td>Beijing-CAMS</td>\n",
       "      <td>106</td>\n",
       "      <td>39.9330</td>\n",
       "      <td>116.3170</td>\n",
       "      <td>2014-01-01-2018-06-28</td>\n",
       "      <td>87804</td>\n",
       "    </tr>\n",
       "    <tr>\n",
       "      <th>1</th>\n",
       "      <td>XiangHe</td>\n",
       "      <td>36</td>\n",
       "      <td>39.7536</td>\n",
       "      <td>116.9615</td>\n",
       "      <td>2014-01-01-2014-11-08</td>\n",
       "      <td>2301</td>\n",
       "    </tr>\n",
       "  </tbody>\n",
       "</table>\n",
       "</div>"
      ],
      "text/plain": [
       "      Site_Name    H  Latitude  Longitude                      t  count\n",
       "0  Beijing-CAMS  106   39.9330   116.3170  2014-01-01-2018-06-28  87804\n",
       "1       XiangHe   36   39.7536   116.9615  2014-01-01-2014-11-08   2301"
      ]
     },
     "execution_count": 97,
     "metadata": {},
     "output_type": "execute_result"
    }
   ],
   "source": [
    "data1 = pd.read_csv(r'D:\\project\\biyesheji\\Code\\aeronotstaite0.csv',header=0)\n",
    "data1.head()"
   ]
  },
  {
   "cell_type": "code",
   "execution_count": 142,
   "metadata": {},
   "outputs": [],
   "source": [
    "def plot_map1(data):\n",
    "    n = data[\"count\"]\n",
    "    Lon = data['Longitude']\n",
    "    Lat = data['Latitude']\n",
    "    Site_name = data['Site_Name']\n",
    "    plt.plot(figsize=(16,9),dpi=150)\n",
    "    m = Basemap(projection='cyl',resolution='h',llcrnrlon=114,llcrnrlat=39,urcrnrlon=119,urcrnrlat=42,lon_0=120,lat_0=90)\n",
    "    set_lonlat(m, np.arange(114,120.1,1), np.arange(39,42.1,1), [0, 0, 0, 1], [1, 0, 0, 0], 12)\n",
    "    m.readshapefile(r'D:\\project\\biyesheji\\Code\\shp\\s\\bou2_4l', 'china', drawbounds=True)\n",
    "    lon_s,lat_s = m(Lon,Lat)\n",
    "    lt=0\n",
    "    for i, j, name in zip(lon_s, lat_s, Site_name):\n",
    "        m.scatter(lon_s,lat_s,s=n/100,c='r')\n",
    "\n",
    "        while lt==0:\n",
    "            plt.text(i, j+0.4, name, fontsize=20)\n",
    "            break\n",
    "        while lt==1:\n",
    "            plt.text(i, j-0.4, name, fontsize=20)\n",
    "            break\n",
    "        lt=lt+1\n",
    "    #plt.title(title,size=25)"
   ]
  },
  {
   "cell_type": "code",
   "execution_count": 143,
   "metadata": {},
   "outputs": [
    {
     "data": {
      "image/png": "[encoded data removed]",
      "text/plain": [
       "<Figure size 432x288 with 1 Axes>"
      ]
     },
     "metadata": {
      "needs_background": "light"
     },
     "output_type": "display_data"
    }
   ],
   "source": [
    "plot_map1(data1)"
   ]
  }
 ],
 "metadata": {
  "kernelspec": {
   "display_name": "Python 3",
   "language": "python",
   "name": "python3"
  },
  "language_info": {
   "codemirror_mode": {
    "name": "ipython",
    "version": 3
   },
   "file_extension": ".py",
   "mimetype": "text/x-python",
   "name": "python",
   "nbconvert_exporter": "python",
   "pygments_lexer": "ipython3",
   "version": "3.7.0"
  }
 },
 "nbformat": 4,
 "nbformat_minor": 4
}
