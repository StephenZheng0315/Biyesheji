{
 "cells": [
  {
   "cell_type": "code",
   "execution_count": 12,
   "metadata": {},
   "outputs": [],
   "source": [
    "from mpl_toolkits.basemap import Basemap\n",
    "import netCDF4 as nc\n",
    "import numpy as np\n",
    "import matplotlib.pyplot as plt\n",
    "from mpl_toolkits.basemap import maskoceans\n",
    "from mpl_toolkits.basemap import interp\n",
    "import numpy.ma as ma\n",
    "from matplotlib.path import Path\n",
    "from matplotlib.patches import Polygon\n",
    "from matplotlib.patches import PathPatch\n",
    "import matplotlib.pyplot as plt\n",
    "import numpy\n",
    "import shapefile\n",
    "import pandas as pd\n",
    "import os\n",
    "from scipy.io import loadmat\n",
    "from matplotlib.ticker import MultipleLocator, FormatStrFormatter\n",
    "plt.rcParams['font.sans-serif']=['SimHei'] #用来正常显示中文标签\n",
    "plt.rcParams['axes.unicode_minus']=False #用来正常显示负号"
   ]
  },
  {
   "cell_type": "code",
   "execution_count": 13,
   "metadata": {},
   "outputs": [],
   "source": [
    "def set_lonlat(_m, lon_list, lat_list, lon_labels, lat_labels, lonlat_size):\n",
    "    \"\"\"\n",
    "    为Basemap实例画带tick标的经纬度注释\n",
    "    自带画水平线和竖直线标注方式不带刻度标\n",
    "    当然函数仍调用了自带标注函数只是在此基础上加了tick标\n",
    "    :param _m: Basemap实例\n",
    "    :param lon_list: 经度 详见Basemap.drawmeridians函数介绍\n",
    "    :param lat_list: 纬度 同上\n",
    "    :param lon_labels: 标注位置 [左, 右, 上, 下] bool值 默认只标注左上待完善 可使用twinx和twiny实现\n",
    "    :param lat_labels: 同上\n",
    "    :param lonlat_size: 字体大小\n",
    "    :return:\n",
    "    \"\"\"\n",
    "    lon_dict = _m.drawmeridians(lon_list, labels=lon_labels, color='none', fontsize=lonlat_size)\n",
    "    lat_dict = _m.drawparallels(lat_list, labels=lat_labels, color='none', fontsize=lonlat_size)\n",
    "    lon_list = []\n",
    "    lat_list = []\n",
    "    for lon_key in lon_dict.keys():\n",
    "        try:\n",
    "            lon_list.append(lon_dict[lon_key][1][0].get_position()[0])\n",
    "        except:\n",
    "            continue\n",
    "\n",
    "    for lat_key in lat_dict.keys():\n",
    "        try:\n",
    "            lat_list.append(lat_dict[lat_key][1][0].get_position()[1])\n",
    "        except:\n",
    "            continue\n",
    "    ax = plt.gca()\n",
    "    ax.xaxis.tick_bottom()\n",
    "    ax.set_yticks(lat_list)\n",
    "    ax.set_xticks(lon_list)\n",
    "    ax.tick_params(labelcolor='none')"
   ]
  },
  {
   "cell_type": "code",
   "execution_count": 14,
   "metadata": {},
   "outputs": [],
   "source": [
    "lon = pd.read_csv(r'D:\\project\\biyesheji\\Code\\data\\MERRA_2\\AOD\\lon.csv',header=0,index_col=0)\n",
    "lat = pd.read_csv(r'D:\\project\\biyesheji\\Code\\data\\MERRA_2\\AOD\\lat.csv',header=0,index_col=0)"
   ]
  },
  {
   "cell_type": "code",
   "execution_count": 15,
   "metadata": {},
   "outputs": [
    {
     "output_type": "stream",
     "name": "stdout",
     "text": [
      "['2015-2018年总AOD变化趋势.csv', '2015-2018年有机碳AOD变化趋势.csv', '2015-2018年沙尘AOD变化趋势.csv', '2015-2018年硫酸盐AOD变化趋势.csv', '2015-2018年黑碳AOD变化趋势.csv']\n"
     ]
    }
   ],
   "source": [
    "def file_name(file_dir):\n",
    "    for root, dirs, files in os.walk(file_dir):\n",
    "        files #当前路径下所有非目录子文件  \n",
    "    return files\n",
    "print(file_name('D:/project/biyesheji/res/csv/new/trend_test/'))#2015-2018年有机碳AOD变化趋势图.csv"
   ]
  },
  {
   "cell_type": "code",
   "execution_count": 16,
   "metadata": {},
   "outputs": [],
   "source": [
    "def plot_map0(lon,lat,val,titleStr):\n",
    "    m = Basemap(projection='cyl',resolution='h',llcrnrlon=73.1,llcrnrlat=16,urcrnrlon=136,urcrnrlat=54.5,lon_0=120.,lat_0=90)\n",
    "    #m.drawcoastlines()\n",
    "    #m.drawcountries()\n",
    "    m.readshapefile(r'D:\\project\\biyesheji\\Code\\shp\\s\\bou2_4l', 'china', drawbounds=True)\n",
    "    cs=m.pcolormesh(lon,lat,val,latlon=True,cmap='rainbow')\n",
    "    set_lonlat(m, np.arange(73.5,136.7,9.8), np.arange(16,55,5), [0, 0, 0, 1], [1, 0, 0, 0], 12)\n",
    "    plt.title(title,size=25)\n",
    "    #savename = 'D:/project/biyesheji/res/'+title+'.png'\n",
    "    #plt.savefig(savename)"
   ]
  },
  {
   "cell_type": "code",
   "execution_count": 17,
   "metadata": {},
   "outputs": [],
   "source": [
    "def plot_mapeee(lon,lat,val,titleStr):\n",
    "    m = Basemap(projection='cyl',resolution='h',llcrnrlon=73,llcrnrlat=16,urcrnrlon=136,urcrnrlat=54.5,lon_0=120.,lat_0=90)\n",
    "    m.readshapefile(r'D:\\project\\biyesheji\\Code\\shp\\s\\bou2_4l', 'china', drawbounds=True)\n",
    "    cs=m.pcolormesh(lon,lat,val,latlon=True,cmap='rainbow')\n",
    "    set_lonlat(m, np.arange(72,136,13), np.arange(16,55,9), [0, 0, 0, 1], [1, 0, 0, 0], 12)\n",
    "    plt.colorbar(shrink=0.76,label='AOD')\n",
    "    plt.title(titleStr,size=16)\n",
    "    plt.imshow(cmap=cmap, norm=norm)\n",
    "    plt.rcParams['font.sans-serif']=['SimHei'] #用来正常显示中文标签\n",
    "    plt.rcParams['axes.unicode_minus']=False #用来正常显示负号\n",
    "    #savename = 'D:/project/biyesheji/res/image/new/with_tittle/year_bili/'+titleStr+'.png'\n",
    "    #plt.savefig(savename,dpi=100)#2014年中国地区MERRA-2 AOD均值空间分布\n",
    "    #plt.clf()"
   ]
  },
  {
   "cell_type": "code",
   "execution_count": null,
   "metadata": {},
   "outputs": [],
   "source": [
    "for i in file_name('D:/project/biyesheji/res/csv/new/trend_test'):\n",
    "    file = r'D:/project/biyesheji/res/csv/new/trend_test/'+i\n",
    "#    print(year)\n",
    "    data = pd.read_csv(file,header=0,index_col=0)\n",
    "    print(\"已读取文件：%s\"%(i[:-4]))\n",
    "    plot_map(lon,lat,data,i[:-4])\n",
    "    print(i[:-4],'已保存！')\n",
    "\n",
    "print(\"都处理完成啦啦啦！\")"
   ]
  },
  {
   "cell_type": "code",
   "execution_count": null,
   "metadata": {},
   "outputs": [],
   "source": [
    "def plot_map(lon,lat,val,titleStr):\n",
    "    plt.subplots(figsize=(10,10))\n",
    "    m = Basemap(projection='cyl',resolution='i',llcrnrlon=73,llcrnrlat=16,urcrnrlon=136,urcrnrlat=54.5,lon_0=120.,lat_0=90)\n",
    "    m.readshapefile(r'D:\\project\\biyesheji\\Code\\shp\\g\\bou1_4l', 'china', drawbounds=True)\n",
    "    cs=m.pcolormesh(lon,lat,val,latlon=True,cmap='rainbow')\n",
    "    set_lonlat(m, np.arange(72,136,13), np.arange(16,55,9), [0, 0, 0, 1], [1, 0, 0, 0], 12)\n",
    "    plt.colorbar(shrink=0.76,label='AOD')\n",
    "    plt.title(titleStr,size=19)\n",
    "    savename = 'D:/project/biyesheji/res/csv/new/year/temp/'+titleStr+'.png'\n",
    "    plt.savefig(savename)#2014年中国地区MERRA-2 AOD均值空间分布\n",
    "#BCEXTTAU_2014 = pd.read_csv(r'D:\\project\\biyesheji\\res\\csv\\new\\year\\2015-2018年MERRA-2 海盐AOD年均值.csv',header=0,index_col=0)\n",
    "#plot_map0(lon,lat,BCEXTTAU_2014,'2015-2018年MERRA-2 海盐AOD年均值')"
   ]
  },
  {
   "cell_type": "code",
   "execution_count": null,
   "metadata": {},
   "outputs": [],
   "source": [
    "def plot_map00(lon,lat,val,titleStr):\n",
    "    plt.subplots(figsize=(10,10))\n",
    "    m = Basemap(projection='cyl',resolution='i',llcrnrlon=73,llcrnrlat=16,urcrnrlon=136,urcrnrlat=54.5,lon_0=120.,lat_0=90)\n",
    "    m.readshapefile(r'D:\\project\\biyesheji\\Code\\shp\\s\\bou2_4l', 'china', drawbounds=True)\n",
    "    cs=m.pcolormesh(lon,lat,val,latlon=True,cmap='rainbow')\n",
    "    set_lonlat(m, np.arange(72,136,13), np.arange(16,55,9), [0, 0, 0, 1], [1, 0, 0, 0], 12)\n",
    "    plt.colorbar(shrink=0.5,label='AOD')\n",
    "    plt.title(titleStr,size=19)\n",
    "    #savename = 'D:/project/biyesheji/res/csv/new/year/temp/'+titleStr+'.png'\n",
    "    #plt.savefig(savename)#2014年中国地区MERRA-2 AOD均值空间分布\n",
    "i='2015-2018年MERRA-2 黑碳AOD占比.csv'\n",
    "file = r'D:/project/biyesheji/res/csv/new/year/temp/'+i\n",
    "data = pd.read_csv(file,header=0,index_col=0)\n",
    "plot_map00(lon,lat,data,i[:-4])"
   ]
  },
  {
   "cell_type": "code",
   "execution_count": null,
   "metadata": {
    "scrolled": true
   },
   "outputs": [],
   "source": [
    "for i in list(file_name(r'D:\\project\\biyesheji\\res\\csv\\new\\year\\temp')):\n",
    "    file = r'D:/project/biyesheji/res/csv/new/year/temp/'+i\n",
    "    data = pd.read_csv(file,header=0,index_col=0)\n",
    "    print(\"已读取文件：%s\"%(i[:-4]))\n",
    "    plot_map(lon,lat,data,i[:-4])\n",
    "    print(\"%s,处理完成!\"%(i[:-4]))\n",
    "print(\"都处理完成啦啦啦！\")"
   ]
  },
  {
   "cell_type": "code",
   "execution_count": null,
   "metadata": {},
   "outputs": [],
   "source": [
    "总\n",
    "夏季\n",
    "秋季\n",
    "春季\n",
    "冬季"
   ]
  },
  {
   "cell_type": "code",
   "execution_count": null,
   "metadata": {},
   "outputs": [],
   "source": []
  },
  {
   "cell_type": "code",
   "execution_count": null,
   "metadata": {},
   "outputs": [],
   "source": [
    "import matplotlib.ticker as ticker\n",
    "\n",
    "fig = plt.figure()\n",
    "ax = fig.gca()\n",
    "im = ax.imshow(np.random.random([10, 10]))\n",
    "cbar = plt.colorbar(im)\n",
    "cbar.set_ticks(np.linspace(0,1,10))\n",
    "plt.show()\n",
    "    #cbar.set_ticklabels( ('-1', '180', '200', '220', '240',  '260',  '280',  '300'))"
   ]
  },
  {
   "cell_type": "code",
   "execution_count": null,
   "metadata": {},
   "outputs": [],
   "source": [
    "dataaa = pd.read_csv('D:/project/biyesheji/res/csv/new/trend_test/2015-2018年黑碳AOD变化趋势图.csv',header=0,index_col=0)"
   ]
  },
  {
   "cell_type": "code",
   "execution_count": null,
   "metadata": {},
   "outputs": [],
   "source": [
    "BCEXTTAU_2014 = pd.read_csv(r'D:\\project\\biyesheji\\res\\csv\\new\\trend_test\\2015-2018年总AOD变化趋势图.csv',header=0,index_col=0)"
   ]
  },
  {
   "cell_type": "code",
   "execution_count": 22,
   "metadata": {},
   "outputs": [],
   "source": [
    "def plot_map_qst(lon,lat,val,titleStr,vmin,vmax):\n",
    "    m = Basemap(projection='cyl',resolution='h',llcrnrlon=73,llcrnrlat=16,urcrnrlon=136,urcrnrlat=54.5,lon_0=120.,lat_0=90)\n",
    "    m.readshapefile(r'D:\\project\\biyesheji\\Code\\shp\\s\\bou2_4l', 'china', drawbounds=True)\n",
    "    cs=m.pcolormesh(lon,lat,val,latlon=True,cmap='rainbow')\n",
    "    set_lonlat(m, np.arange(72,136,13), np.arange(16,55,9), [0, 0, 0, 1], [1, 0, 0, 0], 12)\n",
    "    cb = plt.colorbar(shrink=0.76,boundaries=np.linspace(vmin,vmax))\n",
    "    cb.set_ticks([0,0.0001,0.0002,0.0003,0.0004])\n",
    "    plt.title(titleStr,size=16)\n",
    "    #plt.show()\n",
    "    savename = 'D:/project/biyesheji/res/image/new/with_tittle/year_qst/'+titleStr+'.png'\n",
    "    plt.savefig(savename,dpi=100)#2014年中国地区MERRA-2 AOD均值空间分布\n",
    "    plt.clf()"
   ]
  },
  {
   "cell_type": "code",
   "execution_count": null,
   "metadata": {},
   "outputs": [],
   "source": []
  },
  {
   "cell_type": "code",
   "execution_count": 24,
   "metadata": {},
   "outputs": [
    {
     "output_type": "stream",
     "name": "stdout",
     "text": [
      "已读取文件：2015-2018年总AOD变化趋势\n",
      "2015-2018年总AOD变化趋势 已保存！\n",
      "已读取文件：2015-2018年有机碳AOD变化趋势\n",
      "2015-2018年有机碳AOD变化趋势 已保存！\n",
      "已读取文件：2015-2018年沙尘AOD变化趋势\n",
      "2015-2018年沙尘AOD变化趋势 已保存！\n",
      "已读取文件：2015-2018年硫酸盐AOD变化趋势\n",
      "2015-2018年硫酸盐AOD变化趋势 已保存！\n",
      "已读取文件：2015-2018年黑碳AOD变化趋势\n",
      "2015-2018年黑碳AOD变化趋势 已保存！\n",
      "都处理完成啦啦啦！\n"
     ]
    },
    {
     "output_type": "display_data",
     "data": {
      "text/plain": "<Figure size 432x288 with 0 Axes>"
     },
     "metadata": {}
    }
   ],
   "source": [
    "for i in file_name('D:/project/biyesheji/res/csv/new/trend_test'):\n",
    "    file = r'D:/project/biyesheji/res/csv/new/trend_test/'+i\n",
    "#    print(year)\n",
    "    data = pd.read_csv(file,header=0,index_col=0)\n",
    "    name = i[:-4]\n",
    "    print(\"已读取文件：%s\"%(name))\n",
    "    plot_map_qst(lon,lat,data,name)\n",
    "    print(i[:-4],'已保存！')\n",
    "\n",
    "print(\"都处理完成啦啦啦！\")"
   ]
  },
  {
   "cell_type": "code",
   "execution_count": null,
   "metadata": {},
   "outputs": [],
   "source": [
    "i='2015-2018年沙尘AOD变化趋势.csv'\n",
    "file = r'D:/project/biyesheji/res/csv/new/trend_test/'+i\n",
    "#    print(year)\n",
    "data = pd.read_csv(file,header=0,index_col=0)\n",
    "name = '2015-2018年沙尘AOD变化趋势.csv'\n",
    "print(\"已读取文件：%s\"%(name))\n",
    "plot_map_qst(lon,lat,data,'2015-2018年MERRA-2 沙尘AOD变化趋势',-0.0007,2)\n",
    "print(i[:-4],'已保存！')\n",
    "\n",
    "print(\"都处理完成啦啦啦！\")"
   ]
  },
  {
   "cell_type": "code",
   "execution_count": null,
   "metadata": {},
   "outputs": [],
   "source": [
    "def plot_map_qst(lon,lat,val,titleStr):\n",
    "    m = Basemap(projection='cyl',resolution='h',llcrnrlon=73,llcrnrlat=16,urcrnrlon=136,urcrnrlat=54.5,lon_0=120.,lat_0=90)\n",
    "    m.readshapefile(r'D:\\project\\biyesheji\\Code\\shp\\s\\bou2_4l', 'china', drawbounds=True)\n",
    "    cs=m.pcolormesh(lon,lat,val,latlon=True,cmap='rainbow')\n",
    "    set_lonlat(m, np.arange(72,136,13), np.arange(16,55,9), [0, 0, 0, 1], [1, 0, 0, 0], 12)\n",
    "    cb = plt.colorbar(shrink=0.76,boundaries=np.linspace(0,1))\n",
    "    cb.set_ticks([0,0.1,0.2,0.3,0.4,0.5,0.6,0.7,0.8,0.9,1.0])\n",
    "    plt.title(titleStr,size=16)\n",
    "    #plt.show()\n",
    "    savename = 'D:/project/biyesheji/res/csv/new/year/temp/'+titleStr+'.png'\n",
    "    plt.savefig(savename,dpi=100)#2014年中国地区MERRA-2 AOD均值空间分布\n",
    "    plt.clf()"
   ]
  },
  {
   "cell_type": "code",
   "execution_count": null,
   "metadata": {},
   "outputs": [],
   "source": [
    "for i in list(file_name(r'D:\\project\\biyesheji\\res\\csv\\new\\year\\temp')):\n",
    "    file = r'D:/project/biyesheji/res/csv/new/year/temp/'+i\n",
    "    data = pd.read_csv(file,header=0,index_col=0)\n",
    "    print(\"已读取文件：%s\"%(i[:-4]))\n",
    "    plot_map_qst(lon,lat,data,i[:-4])\n",
    "    print(\"%s,处理完成!\"%(i[:-4]))\n",
    "print(\"都处理完成啦啦啦！\")"
   ]
  },
  {
   "cell_type": "code",
   "execution_count": null,
   "metadata": {},
   "outputs": [],
   "source": []
  },
  {
   "cell_type": "code",
   "execution_count": null,
   "metadata": {},
   "outputs": [],
   "source": []
  }
 ],
 "metadata": {
  "kernelspec": {
   "display_name": "Python 3",
   "language": "python",
   "name": "python3"
  },
  "language_info": {
   "codemirror_mode": {
    "name": "ipython",
    "version": 3
   },
   "file_extension": ".py",
   "mimetype": "text/x-python",
   "name": "python",
   "nbconvert_exporter": "python",
   "pygments_lexer": "ipython3",
   "version": "3.7.10-final"
  }
 },
 "nbformat": 4,
 "nbformat_minor": 4
}